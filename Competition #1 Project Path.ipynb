{
 "cells": [
  {
   "cell_type": "markdown",
   "metadata": {},
   "source": [
    "# Competition #1 Final Project Path"
   ]
  },
  {
   "cell_type": "markdown",
   "metadata": {},
   "source": [
    "By : Anthony Chung, Andrew Tropeano, Russell Coontid, Jiehao Yang"
   ]
  },
  {
   "cell_type": "code",
   "execution_count": 1,
   "metadata": {
    "collapsed": true
   },
   "outputs": [],
   "source": [
    "#Objective: To clean data by replace error to NaN and then replace NaN with mean\n",
    "#1 Import modules\n",
    "import pandas as pd\n",
    "import numpy as np\n",
    "import matplotlib.pyplot as plt\n",
    "from numpy import inf\n",
    "from scipy.stats import mode\n",
    "import seaborn as sns\n"
   ]
  },
  {
   "cell_type": "markdown",
   "metadata": {},
   "source": [
    "# Importing Data"
   ]
  },
  {
   "cell_type": "code",
   "execution_count": 2,
   "metadata": {
    "collapsed": true
   },
   "outputs": [],
   "source": [
    "# Importing excel file\n",
    "xl = pd.ExcelFile(\"Competation #1 Raw Data_New.xlsx\")\n",
    "xl.sheet_names\n",
    "[u'Sheet1']\n",
    "df = xl.parse(\"Sheet1\")"
   ]
  },
  {
   "cell_type": "markdown",
   "metadata": {},
   "source": [
    "# Data Preprocessing "
   ]
  },
  {
   "cell_type": "markdown",
   "metadata": {},
   "source": [
    "## Data Cleaning (Replacing \"-\" with NaN)\n",
    "- Cleaning the data by replacing '-' with NaN to change it to columns that is calculable"
   ]
  },
  {
   "cell_type": "code",
   "execution_count": 3,
   "metadata": {
    "collapsed": true
   },
   "outputs": [],
   "source": [
    "#Replace each columns error value to NaN value\n",
    "#I3\n",
    "df['I1'].replace('-', np.nan, inplace=True)\n",
    "df['I2'].replace('-', np.nan, inplace=True)\n",
    "df['I3'].replace('-', np.nan, inplace=True)\n",
    "#P(IPO), P(H), P(L), P(1Day)\n",
    "df['P(IPO)'].replace('-', np.nan, inplace=True)\n",
    "df['P(H)'].replace('-', np.nan, inplace=True)\n",
    "df['P(L)'].replace('-', np.nan, inplace=True)\n",
    "df['P(1Day)'].replace('-', np.nan, inplace=True)\n",
    "\n",
    "#C1\tC2\tC3\tC4\tC5\tC6\tC7\n",
    "df['C1'].replace('-', np.nan, inplace=True)\n",
    "df['C2'].replace('-', np.nan, inplace=True)\n",
    "df['C3'].replace('-', np.nan, inplace=True)\n",
    "df['C4'].replace('-', np.nan, inplace=True)\n",
    "df['C5'].replace('-', np.nan, inplace=True)\n",
    "df['C6'].replace('-', np.nan, inplace=True)\n",
    "df['C7'].replace('-', np.nan, inplace=True)\n",
    "#T1\tT2\tT3\tT4\tT5\n",
    "df['T1'].replace('-', np.nan, inplace=True)\n",
    "df['T2'].replace('-', np.nan, inplace=True)\n",
    "df['T3'].replace('-', np.nan, inplace=True)\n",
    "df['T4'].replace('-', np.nan, inplace=True)\n",
    "df['T5'].replace('-', np.nan, inplace=True)\n",
    "#S1\tS2\tS3\n",
    "df['S1'].replace('-', np.nan, inplace=True)\n",
    "df['S2'].replace('-', np.nan, inplace=True)\n",
    "df['S3'].replace('-', np.nan, inplace=True)"
   ]
  },
  {
   "cell_type": "markdown",
   "metadata": {},
   "source": [
    "## Remove rows that has 50% or more missing.\n",
    "- Dropping NaN values in the df by setting if there is less than 14 values in a row (More than 50% missing)"
   ]
  },
  {
   "cell_type": "code",
   "execution_count": 4,
   "metadata": {},
   "outputs": [
    {
     "name": "stdout",
     "output_type": "stream",
     "text": [
      "<class 'pandas.core.frame.DataFrame'>\n",
      "Int64Index: 673 entries, 0 to 681\n",
      "Data columns (total 22 columns):\n",
      "I1         673 non-null object\n",
      "I2         673 non-null object\n",
      "I3         673 non-null object\n",
      "P(IPO)     673 non-null float64\n",
      "P(H)       671 non-null float64\n",
      "P(L)       671 non-null float64\n",
      "P(1Day)    660 non-null float64\n",
      "C1         660 non-null float64\n",
      "C2         660 non-null float64\n",
      "C3         645 non-null float64\n",
      "C4         660 non-null float64\n",
      "C5         673 non-null float64\n",
      "C6         673 non-null float64\n",
      "C7         609 non-null float64\n",
      "T1         673 non-null float64\n",
      "T2         673 non-null float64\n",
      "T3         673 non-null float64\n",
      "T4         673 non-null float64\n",
      "T5         673 non-null float64\n",
      "S1         673 non-null float64\n",
      "S2         673 non-null float64\n",
      "S3         673 non-null float64\n",
      "dtypes: float64(19), object(3)\n",
      "memory usage: 120.9+ KB\n",
      "None\n"
     ]
    }
   ],
   "source": [
    "df1 = df.dropna(thresh=14)\n",
    "\n",
    "print(df1.info())"
   ]
  },
  {
   "cell_type": "markdown",
   "metadata": {},
   "source": [
    "## Changing Objects into Numeric \n",
    "- In order to calculate the median and impute the NaN values with it. The data have to first be change to Numeric"
   ]
  },
  {
   "cell_type": "code",
   "execution_count": 5,
   "metadata": {},
   "outputs": [
    {
     "name": "stderr",
     "output_type": "stream",
     "text": [
      "/anaconda/lib/python3.6/site-packages/ipykernel_launcher.py:3: SettingWithCopyWarning: \n",
      "A value is trying to be set on a copy of a slice from a DataFrame.\n",
      "Try using .loc[row_indexer,col_indexer] = value instead\n",
      "\n",
      "See the caveats in the documentation: http://pandas.pydata.org/pandas-docs/stable/indexing.html#indexing-view-versus-copy\n",
      "  This is separate from the ipykernel package so we can avoid doing imports until\n"
     ]
    }
   ],
   "source": [
    "#Create a for loop to turn all columns to numeric in order to calculate median\n",
    "for c in df1[['P(IPO)','P(H)','P(L)',\"P(1Day)\",'C1','C2','C3','C4','C5','C6','C7','T1','T2','T3','T4','T5','S1','S2','S3']]:\n",
    "    df1[c] = pd.to_numeric(df1[c])\n",
    "    "
   ]
  },
  {
   "cell_type": "markdown",
   "metadata": {},
   "source": [
    "# Imputation on NaN values with Median and Mode\n",
    "- Imputing NaN values with Median by creating a for loop that loops through all continous variables in the df\n",
    "- Also to impute categorial  variables with Mode"
   ]
  },
  {
   "cell_type": "code",
   "execution_count": 6,
   "metadata": {},
   "outputs": [
    {
     "name": "stderr",
     "output_type": "stream",
     "text": [
      "/anaconda/lib/python3.6/site-packages/ipykernel_launcher.py:3: SettingWithCopyWarning: \n",
      "A value is trying to be set on a copy of a slice from a DataFrame.\n",
      "Try using .loc[row_indexer,col_indexer] = value instead\n",
      "\n",
      "See the caveats in the documentation: http://pandas.pydata.org/pandas-docs/stable/indexing.html#indexing-view-versus-copy\n",
      "  This is separate from the ipykernel package so we can avoid doing imports until\n",
      "/anaconda/lib/python3.6/site-packages/pandas/core/generic.py:3549: SettingWithCopyWarning: \n",
      "A value is trying to be set on a copy of a slice from a DataFrame\n",
      "\n",
      "See the caveats in the documentation: http://pandas.pydata.org/pandas-docs/stable/indexing.html#indexing-view-versus-copy\n",
      "  self._update_inplace(new_data)\n"
     ]
    }
   ],
   "source": [
    "#imputing each column with the median\n",
    "for c in df1[['P(IPO)','P(H)','P(L)',\"P(1Day)\",'C1','C3','C4','C5','C6','C7','T1','T2','T3','T4','T5','S1','S2','S3']]:\n",
    "    df1[c] = df1[c].transform(lambda x: x.fillna(x.median()))\n",
    "\n",
    "#Compute ['C2'] by fillin nan with max count\n",
    "#df1['C2'].transform(lambda x: x.fillna(x.mode()))\n",
    "df1['C2'].fillna(mode(df1['C2']).mode[0], inplace=True)"
   ]
  },
  {
   "cell_type": "markdown",
   "metadata": {},
   "source": [
    "# Create New variables (C31, C51,P(mid) C61, L1,L2,L3,L4,L5,L6, Y1,Y2)\n",
    "- Aggregating variables together to create C31, C51, P(mid), L1-L6 for more usefulness in percentage\n",
    "- Create Y1 and Y2 from P(IPO),P(H),P(L),P(1Day)"
   ]
  },
  {
   "cell_type": "code",
   "execution_count": 7,
   "metadata": {},
   "outputs": [
    {
     "name": "stderr",
     "output_type": "stream",
     "text": [
      "/anaconda/lib/python3.6/site-packages/ipykernel_launcher.py:2: SettingWithCopyWarning: \n",
      "A value is trying to be set on a copy of a slice from a DataFrame.\n",
      "Try using .loc[row_indexer,col_indexer] = value instead\n",
      "\n",
      "See the caveats in the documentation: http://pandas.pydata.org/pandas-docs/stable/indexing.html#indexing-view-versus-copy\n",
      "  \n",
      "/anaconda/lib/python3.6/site-packages/ipykernel_launcher.py:3: SettingWithCopyWarning: \n",
      "A value is trying to be set on a copy of a slice from a DataFrame.\n",
      "Try using .loc[row_indexer,col_indexer] = value instead\n",
      "\n",
      "See the caveats in the documentation: http://pandas.pydata.org/pandas-docs/stable/indexing.html#indexing-view-versus-copy\n",
      "  This is separate from the ipykernel package so we can avoid doing imports until\n",
      "/anaconda/lib/python3.6/site-packages/ipykernel_launcher.py:4: SettingWithCopyWarning: \n",
      "A value is trying to be set on a copy of a slice from a DataFrame.\n",
      "Try using .loc[row_indexer,col_indexer] = value instead\n",
      "\n",
      "See the caveats in the documentation: http://pandas.pydata.org/pandas-docs/stable/indexing.html#indexing-view-versus-copy\n",
      "  after removing the cwd from sys.path.\n",
      "/anaconda/lib/python3.6/site-packages/ipykernel_launcher.py:5: SettingWithCopyWarning: \n",
      "A value is trying to be set on a copy of a slice from a DataFrame.\n",
      "Try using .loc[row_indexer,col_indexer] = value instead\n",
      "\n",
      "See the caveats in the documentation: http://pandas.pydata.org/pandas-docs/stable/indexing.html#indexing-view-versus-copy\n",
      "  \"\"\"\n",
      "/anaconda/lib/python3.6/site-packages/ipykernel_launcher.py:6: SettingWithCopyWarning: \n",
      "A value is trying to be set on a copy of a slice from a DataFrame.\n",
      "Try using .loc[row_indexer,col_indexer] = value instead\n",
      "\n",
      "See the caveats in the documentation: http://pandas.pydata.org/pandas-docs/stable/indexing.html#indexing-view-versus-copy\n",
      "  \n",
      "/anaconda/lib/python3.6/site-packages/ipykernel_launcher.py:7: SettingWithCopyWarning: \n",
      "A value is trying to be set on a copy of a slice from a DataFrame.\n",
      "Try using .loc[row_indexer,col_indexer] = value instead\n",
      "\n",
      "See the caveats in the documentation: http://pandas.pydata.org/pandas-docs/stable/indexing.html#indexing-view-versus-copy\n",
      "  import sys\n",
      "/anaconda/lib/python3.6/site-packages/ipykernel_launcher.py:8: SettingWithCopyWarning: \n",
      "A value is trying to be set on a copy of a slice from a DataFrame.\n",
      "Try using .loc[row_indexer,col_indexer] = value instead\n",
      "\n",
      "See the caveats in the documentation: http://pandas.pydata.org/pandas-docs/stable/indexing.html#indexing-view-versus-copy\n",
      "  \n",
      "/anaconda/lib/python3.6/site-packages/ipykernel_launcher.py:9: SettingWithCopyWarning: \n",
      "A value is trying to be set on a copy of a slice from a DataFrame.\n",
      "Try using .loc[row_indexer,col_indexer] = value instead\n",
      "\n",
      "See the caveats in the documentation: http://pandas.pydata.org/pandas-docs/stable/indexing.html#indexing-view-versus-copy\n",
      "  if __name__ == '__main__':\n",
      "/anaconda/lib/python3.6/site-packages/ipykernel_launcher.py:10: SettingWithCopyWarning: \n",
      "A value is trying to be set on a copy of a slice from a DataFrame.\n",
      "Try using .loc[row_indexer,col_indexer] = value instead\n",
      "\n",
      "See the caveats in the documentation: http://pandas.pydata.org/pandas-docs/stable/indexing.html#indexing-view-versus-copy\n",
      "  # Remove the CWD from sys.path while we load stuff.\n",
      "/anaconda/lib/python3.6/site-packages/ipykernel_launcher.py:11: SettingWithCopyWarning: \n",
      "A value is trying to be set on a copy of a slice from a DataFrame.\n",
      "Try using .loc[row_indexer,col_indexer] = value instead\n",
      "\n",
      "See the caveats in the documentation: http://pandas.pydata.org/pandas-docs/stable/indexing.html#indexing-view-versus-copy\n",
      "  # This is added back by InteractiveShellApp.init_path()\n",
      "/anaconda/lib/python3.6/site-packages/ipykernel_launcher.py:12: SettingWithCopyWarning: \n",
      "A value is trying to be set on a copy of a slice from a DataFrame.\n",
      "Try using .loc[row_indexer,col_indexer] = value instead\n",
      "\n",
      "See the caveats in the documentation: http://pandas.pydata.org/pandas-docs/stable/indexing.html#indexing-view-versus-copy\n",
      "  if sys.path[0] == '':\n",
      "/anaconda/lib/python3.6/site-packages/ipykernel_launcher.py:13: SettingWithCopyWarning: \n",
      "A value is trying to be set on a copy of a slice from a DataFrame.\n",
      "Try using .loc[row_indexer,col_indexer] = value instead\n",
      "\n",
      "See the caveats in the documentation: http://pandas.pydata.org/pandas-docs/stable/indexing.html#indexing-view-versus-copy\n",
      "  del sys.path[0]\n"
     ]
    }
   ],
   "source": [
    "#Create new aggregated columns \n",
    "df1['C31'] = np.where(df1['C3']>=0, 1,0)\n",
    "df1['C51'] = df1['C5']/df1['C6']\n",
    "df1['P(mid)'] = (df1['P(H)']+df1['P(L)'])/2\n",
    "df1['C61'] = np.where(df1['P(IPO)']>df1['P(mid)'],((df1['P(IPO)']-df1['P(mid)'])/df1['P(mid)']*100),0) #Check\n",
    "df1['L1'] = df1['T4']/df1['T1']\n",
    "df1['L2'] = df1['T3']/df1['T2']\n",
    "df1['L3'] = df1['T5']/df1['T2']\n",
    "df1['L4'] =df1['S1']/df1['T2']\n",
    "df1['L5'] =df1['S2']/df1['T2']\n",
    "df1['L6'] =df1['S3']/df1['T2']\n",
    "df1['Y1'] = np.where(df1['P(IPO)']<df1[('P(mid)')],1,0)\n",
    "df1['Y2'] = np.where(df1['P(IPO)']< df1[('P(1Day)')],1,0)"
   ]
  },
  {
   "cell_type": "markdown",
   "metadata": {},
   "source": [
    "# Correlation Analysis (Heatmap)"
   ]
  },
  {
   "cell_type": "code",
   "execution_count": 8,
   "metadata": {},
   "outputs": [
    {
     "data": {
      "image/png": "[encoded data removed]",
      "text/plain": [
       "<matplotlib.figure.Figure at 0x1912ca4898>"
      ]
     },
     "metadata": {},
     "output_type": "display_data"
    }
   ],
   "source": [
    "#create a correlation heat map \n",
    "# Compute the correlation matrix\n",
    "corr = df1.corr()\n",
    "\n",
    "\n",
    "# Set up the matplotlib figure\n",
    "f, ax = plt.subplots(figsize=(11, 9))\n",
    "\n",
    "# Generate a custom diverging colormap\n",
    "cmap = sns.diverging_palette(220, 10, as_cmap=True)\n",
    "\n",
    "# Draw the heatmap with the mask and correct aspect ratio\n",
    "sns.heatmap(corr, cmap=cmap, vmax=.3, center=0,\n",
    "            square=True, linewidths=.5, cbar_kws={\"shrink\": .5})\n",
    "\n",
    "plt.show()"
   ]
  },
  {
   "cell_type": "code",
   "execution_count": 9,
   "metadata": {},
   "outputs": [
    {
     "name": "stdout",
     "output_type": "stream",
     "text": [
      "     I1                                  I2    I3  P(IPO)  P(H)  P(L)  \\\n",
      "0  AATI  ADVANCED ANALOGIC TECHNOLOGIES INC  3674    10.0   9.5   8.5   \n",
      "1  ABPI     ACCENTIA BIOPHARMACEUTICALS INC  2834     8.0  10.0   8.0   \n",
      "2  ACAD          ACADIA PHARMACEUTICALS INC  2834     7.0  14.0  12.0   \n",
      "3  ACHN       ACHILLION PHARMACEUTICALS INC  2834    11.5  16.0  14.0   \n",
      "4  ACLI     AMERICAN COMMERCIAL LINES INC.   4492    21.0  21.0  19.0   \n",
      "\n",
      "     P(1Day)     C1   C2    C3 ...  P(mid)        C61        L1        L2  \\\n",
      "0  11.870000  122.0  1.0  3.43 ...     9.0  11.111111  0.640426  0.908876   \n",
      "1   7.250000  259.0  0.0 -1.62 ...     9.0   0.000000  0.644753  0.898724   \n",
      "2   6.700000   90.0  1.0 -1.24 ...    13.0   0.000000  0.636816  0.909350   \n",
      "3  12.390000  209.0  1.0 -0.91 ...    15.0   0.000000  0.539634  0.917060   \n",
      "4  56.599998   80.0  1.0  0.07 ...    20.0   5.000000  0.587413  0.888469   \n",
      "\n",
      "         L3        L4        L5        L6  Y1  Y2  \n",
      "0  0.054250  0.004875  0.009199  0.010929   0   1  \n",
      "1  0.051395  0.003258  0.011105  0.010876   1   0  \n",
      "2  0.061764  0.011593  0.006271  0.011403   1   0  \n",
      "3  0.061630  0.009686  0.007144  0.013319   1   1  \n",
      "4  0.048550  0.004518  0.010047  0.011261   0   1  \n",
      "\n",
      "[5 rows x 34 columns]\n",
      "<class 'pandas.core.frame.DataFrame'>\n",
      "Int64Index: 673 entries, 0 to 681\n",
      "Data columns (total 34 columns):\n",
      "I1         673 non-null object\n",
      "I2         673 non-null object\n",
      "I3         673 non-null object\n",
      "P(IPO)     673 non-null float64\n",
      "P(H)       673 non-null float64\n",
      "P(L)       673 non-null float64\n",
      "P(1Day)    673 non-null float64\n",
      "C1         673 non-null float64\n",
      "C2         673 non-null float64\n",
      "C3         673 non-null float64\n",
      "C4         673 non-null float64\n",
      "C5         673 non-null float64\n",
      "C6         673 non-null float64\n",
      "C7         673 non-null float64\n",
      "T1         673 non-null float64\n",
      "T2         673 non-null float64\n",
      "T3         673 non-null float64\n",
      "T4         673 non-null float64\n",
      "T5         673 non-null float64\n",
      "S1         673 non-null float64\n",
      "S2         673 non-null float64\n",
      "S3         673 non-null float64\n",
      "C31        673 non-null int64\n",
      "C51        673 non-null float64\n",
      "P(mid)     673 non-null float64\n",
      "C61        673 non-null float64\n",
      "L1         673 non-null float64\n",
      "L2         673 non-null float64\n",
      "L3         673 non-null float64\n",
      "L4         673 non-null float64\n",
      "L5         673 non-null float64\n",
      "L6         673 non-null float64\n",
      "Y1         673 non-null int64\n",
      "Y2         673 non-null int64\n",
      "dtypes: float64(28), int64(3), object(3)\n",
      "memory usage: 204.0+ KB\n",
      "None\n",
      "           P(IPO)        P(H)        P(L)      P(1Day)           C1  \\\n",
      "count  673.000000  673.000000  673.000000   673.000000   673.000000   \n",
      "mean    13.858990   15.474532   13.508336    25.720551   148.903418   \n",
      "std      6.042727    6.647139    5.829816    72.539199   151.446501   \n",
      "min      3.000000    0.000000    3.000000     0.000000    10.000000   \n",
      "25%     10.000000   12.500000   11.000000    11.010000    85.000000   \n",
      "50%     13.500000   15.000000   13.000000    14.845000   107.000000   \n",
      "75%     17.000000   17.000000   15.000000    20.250000   154.000000   \n",
      "max     85.000000  135.000000  108.000000  1159.200562  2087.000000   \n",
      "\n",
      "               C2           C3          C4            C5            C6  \\\n",
      "count  673.000000   673.000000  673.000000  6.730000e+02  6.730000e+02   \n",
      "mean     0.861813     1.555091    0.007318  4.936463e+07  1.244864e+07   \n",
      "std      0.345353   159.311408    0.032995  1.046089e+08  2.517880e+07   \n",
      "min      0.000000  -786.239000   -0.162352  3.693227e+06  5.250000e+05   \n",
      "25%      1.000000    -0.770000   -0.013775  1.870309e+07  5.000000e+06   \n",
      "50%      1.000000     0.010000    0.009125  2.733868e+07  7.482000e+06   \n",
      "75%      1.000000     0.440000    0.031135  4.974381e+07  1.200000e+07   \n",
      "max      1.000000  3864.500000    0.092896  2.138085e+09  4.212336e+08   \n",
      "\n",
      "          ...          P(mid)         C61          L1          L2          L3  \\\n",
      "count     ...      673.000000  673.000000  673.000000  673.000000  673.000000   \n",
      "mean      ...       14.491434    5.310860    0.626959         inf         inf   \n",
      "std       ...        6.223891   10.795825    0.077599         NaN         NaN   \n",
      "min       ...        3.500000    0.000000    0.000000    0.000000   -0.000089   \n",
      "25%       ...       11.500000    0.000000    0.580517    0.883578    0.047432   \n",
      "50%       ...       14.000000    0.000000    0.629032    0.897485    0.051916   \n",
      "75%       ...       16.000000    7.142857    0.674817    0.909775    0.056477   \n",
      "max       ...      121.500000  100.000000    0.826347         inf         inf   \n",
      "\n",
      "               L4          L5          L6          Y1          Y2  \n",
      "count  673.000000  673.000000  673.000000  673.000000  673.000000  \n",
      "mean          inf         inf         inf    0.508172    0.702823  \n",
      "std           NaN         NaN         NaN    0.500305    0.457355  \n",
      "min     -0.000093    0.002152    0.005125    0.000000    0.000000  \n",
      "25%      0.004153    0.006967    0.009581    0.000000    0.000000  \n",
      "50%      0.005050    0.008592    0.011321    1.000000    1.000000  \n",
      "75%      0.006256    0.010514    0.012891    1.000000    1.000000  \n",
      "max           inf         inf         inf    1.000000    1.000000  \n",
      "\n",
      "[8 rows x 31 columns]\n"
     ]
    }
   ],
   "source": [
    "print(df1.head())\n",
    "print(df1.info())\n",
    "print(df1.describe())"
   ]
  },
  {
   "cell_type": "markdown",
   "metadata": {},
   "source": [
    "# Imputation on Inf values in aggregated column\n",
    "- We decided to impute the Inf values with the median of the variable"
   ]
  },
  {
   "cell_type": "code",
   "execution_count": 10,
   "metadata": {},
   "outputs": [
    {
     "name": "stderr",
     "output_type": "stream",
     "text": [
      "/anaconda/lib/python3.6/site-packages/ipykernel_launcher.py:3: SettingWithCopyWarning: \n",
      "A value is trying to be set on a copy of a slice from a DataFrame.\n",
      "Try using .loc[row_indexer,col_indexer] = value instead\n",
      "\n",
      "See the caveats in the documentation: http://pandas.pydata.org/pandas-docs/stable/indexing.html#indexing-view-versus-copy\n",
      "  This is separate from the ipykernel package so we can avoid doing imports until\n"
     ]
    }
   ],
   "source": [
    "#Impute the infinite values with median in L1 - L6\n",
    "for c in df1[['L1','L2','L3','L4','L5','L6']]:\n",
    "    df1[c] = df1[c].transform(lambda x: x.replace(inf,x.median()))\n"
   ]
  },
  {
   "cell_type": "markdown",
   "metadata": {},
   "source": [
    "# Data Dictionary"
   ]
  },
  {
   "attachments": {},
   "cell_type": "markdown",
   "metadata": {},
   "source": [
    "| Variable| \tCalculation\t| Name | \n",
    "| ------------- |:-------------:| -----:|\n",
    "| I1\t| \t| Ticker\n",
    "| I2\t| \t| Company Name\n",
    "| I3\t| | \tStandard Industry Classifier\n",
    "| P(IPO)\t| | \tOffer Price\n",
    "| P(H)\t| | \tHigher Bound\n",
    "| P(L)\t| | \tLower Bound\n",
    "| P(1Day)| | \t\tFirst Day Trading Price\n",
    "| C1\t| | \tDays\n",
    "| C2\t| | \tTop-tier-Dummy\n",
    "| C3\t| | \tEarnings Per Share\n",
    "| C4\t| | \tPrior Nasdaq 15-days returns\n",
    "| C5\t| | \tOutstanding shares\n",
    "| C6\t| | \tOffering Shares\n",
    "| C7\t| | \tSales\n",
    "| P(mid)| \tP(h)+P(L) / 2| \tMid bound\n",
    "| C31\t| if C3 is positive | \tEPS Dummy C3'\n",
    "| C51\t| C5/C6\t| Share overhang C5'\n",
    "| C61\t| | \tUp revision C6'\n",
    "| L1\t| T4/ T1| \tPercent of long sentences\n",
    "| L2\t| T3/T2\t| Percent of real word\n",
    "| L3\t| T5/T2| \tPercent of long words\n",
    "| L4| \tS1/T2| \tPercent of positive words\n",
    "| L5\t| S2/T2| \tPercent of Negative word\n",
    "| L6\t| S3/T2\t| Percent of uncertain words\n",
    "| Y1\t| P(IPO) < P(mid)| \tPre- IPO Price Revision\n",
    "| Y2\t| P(IPO)< P(1Day)\t| Post -IPO initial "
   ]
  },
  {
   "cell_type": "markdown",
   "metadata": {},
   "source": [
    "# Exclusion/ Inclusion Rule"
   ]
  },
  {
   "cell_type": "markdown",
   "metadata": {},
   "source": [
    "Incusion: C2, L5, C31, C61\n",
    "\n",
    "**Y1 Model Exclusion Rules:**\n",
    "\n",
    "- Exclusion rule: P(IPO), P(H), P(L), P(1Day)\n",
    "    - All used to derive Y1 and/or Y2, therefore must be excluded from model.\n",
    "\n",
    "\n",
    "- Exclusion rule: T1, T2, T3, T4, T5, S1, S2, S3\n",
    "    - These are all used to derive L1-L6\n",
    "\n",
    "\n",
    "- Exclusion rule: C1, C4\n",
    "    - These two time-related variables, when added to our model along with variables C2, L5, C31, and C61, increase the model’s dimensionality without increasing its accuracy, therefore it would be imprudent to include them.\n",
    "\n",
    "\n",
    "- Exclusion rule: C3\n",
    "    - There is no need to include both C3 and C31 in the model, as they are both EPS indicators. C31 proved to be the stronger predictor of our target variables, so C3 can be excluded.\n",
    "\n",
    "\n",
    "- Exclusion rule: C5, C6, C51\n",
    "    - These variables pertain purely to quantity of shares. Without the context of earnings pertaining to these shares (EPS), this information is not helpful. Instead, we’ll look to incorporate EPS measures instead.\n",
    "\n",
    "\n",
    "- Exclusion rule: C7\n",
    "    - Earnings are factored into the model via C31, which is a more accurate financial indicator than sales, as earnings is the remaining sales revenue left over after all operating expenses, interest, taxes, etc. have been deducted from total revenue.\n",
    "    \n",
    "\n",
    "- Exclusion rule: L1, L2, L3, L4, L6\n",
    "    - The only unbiased information of merit for investors in the MD&A section comes in numerical form – the company’s financial fundamentals (balance sheet, income statement, cash flow, etc.) These excluded variables only reflect the non-numerical contents for the MD&A section, which can be completely biased, subjective, anecdotal, etc.\n",
    "\n",
    "\n",
    "- Exclusion rule: I1, I2\n",
    "    - Identifier fields cannot be used as predictor variables.\n",
    "\n",
    "\n",
    "- Exclusion rule: I3\n",
    "    - Industry classifier codes are outdated and do not enable relevant groupings for predictive analysis.\n",
    "\n",
    "\n",
    "- Exclusion rule: Y1\n",
    "    - Y1 is the target variable, therefore it cannot also be used as a predictor variable.\n",
    "\n",
    "\n",
    "- Exclusion rule: Y2\n",
    "    - Y2 cannot be used as a predictor variable as this would mean peeking into the future.\n",
    "\n",
    "\n",
    "**Y2 Model Exclusion Rules**\n",
    "\n",
    "- The same Y1 exclusion rules apply to the Y2 model, with the exception of the Y1 exclusion rule, as it is no longer the target variable and would not require peeking into the future.\n"
   ]
  },
  {
   "cell_type": "markdown",
   "metadata": {},
   "source": [
    "# Create new dataframe with the inclusion variables"
   ]
  },
  {
   "cell_type": "code",
   "execution_count": 11,
   "metadata": {},
   "outputs": [],
   "source": [
    "Test = df1[['C2','C31','C61','L5','Y1','Y2']]"
   ]
  },
  {
   "cell_type": "code",
   "execution_count": 12,
   "metadata": {
    "collapsed": true
   },
   "outputs": [],
   "source": [
    "Test.to_excel('Competition.xlsx', index=False)"
   ]
  },
  {
   "cell_type": "markdown",
   "metadata": {},
   "source": [
    "# Inputing to SPSS for transformation\n"
   ]
  },
  {
   "cell_type": "markdown",
   "metadata": {
    "collapsed": true
   },
   "source": [
    "- Export the Competition.xlsx from this python script and input it in the Excel node in SPSS file 'Competition#1.str'\n",
    "\n",
    "\n",
    "- In the Excel node go to the Type tab and change the Y1 and Y2 Measurement to Categorial and also change the Role of Y1 and Y2 as target\n",
    "\n",
    "\n",
    "- Trasnform with the SPSS node Auto Data Prep, in Field tab select the predictors as input and Y1 as target. Then in the Setting tab under Prepare inputs and target change the rescalling method from Z-score to Min-Max transformation. Click Analyze\n",
    "\n",
    "\n",
    "- Connect the Auto Data Prep to the table node and select the output to file as csv file. Click Run to produce the Competition1 Final dataset \n"
   ]
  },
  {
   "cell_type": "code",
   "execution_count": null,
   "metadata": {
    "collapsed": true
   },
   "outputs": [],
   "source": []
  }
 ],
 "metadata": {
  "kernelspec": {
   "display_name": "Python 3",
   "language": "python",
   "name": "python3"
  },
  "language_info": {
   "codemirror_mode": {
    "name": "ipython",
    "version": 3
   },
   "file_extension": ".py",
   "mimetype": "text/x-python",
   "name": "python",
   "nbconvert_exporter": "python",
   "pygments_lexer": "ipython3",
   "version": "3.6.1"
  }
 },
 "nbformat": 4,
 "nbformat_minor": 2
}
